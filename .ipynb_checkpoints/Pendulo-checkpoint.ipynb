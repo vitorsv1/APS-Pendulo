{
 "cells": [
  {
   "cell_type": "code",
   "execution_count": null,
   "metadata": {
    "collapsed": true
   },
   "outputs": [],
   "source": [
    "import numpy as np\n",
    "import matplotlib.pyplot as plt\n",
    "%matplotlib inline\n",
    "\n",
    "\n",
    "#lista de tempo\n",
    "#dt = \n",
    "#tempo = np.arange()"
   ]
  },
  {
   "cell_type": "code",
   "execution_count": null,
   "metadata": {
    "collapsed": true
   },
   "outputs": [],
   "source": [
    "#Equação diferencial para o pendulo\n",
    "\n",
    "def EqDif(Solucoes, t):\n",
    "    X=Solucoes[0]\n",
    "    Y=Solucoes[1]\n",
    "    Vx=Solucoes[2]\n",
    "    Vy=Solucoes[3]    \n",
    "    dXdt = Vx\n",
    "    dYdt = Vy\n",
    "    dVxdt = 0\n",
    "    dVydt = -10\n",
    "    #Vamos adicionar uma proteção aqui: quando a posição Y é negativa, não há mais acelerações e velocidades\n",
    "    return [dXdt, dYdt, dVxdt, dVydt]\n"
   ]
  },
  {
   "cell_type": "code",
   "execution_count": 1,
   "metadata": {
    "collapsed": true
   },
   "outputs": [],
   "source": [
    "#Angulo inicial e considerações iniciais\n",
    "\n",
    "#inicia o ângulo theta de lançamento\n",
    "#theta=radians(35)\n",
    "#condições iniciais\n",
    "#S0=[]"
   ]
  },
  {
   "cell_type": "code",
   "execution_count": null,
   "metadata": {
    "collapsed": true
   },
   "outputs": [],
   "source": [
    "#Rodando odeint e plotando\n",
    "\n",
    "#Solucao=odeint(EqDif, S0, t)\n",
    "#plotando os resultados\n",
    "#plt.plot(Solucao[:,0], Solucao[:,1])\n",
    "#plt.axis('equal')\n",
    "#plt.grid(True)\n",
    "#plt.show()"
   ]
  }
 ],
 "metadata": {
  "kernelspec": {
   "display_name": "Python 3",
   "language": "python",
   "name": "python3"
  },
  "language_info": {
   "codemirror_mode": {
    "name": "ipython",
    "version": 3
   },
   "file_extension": ".py",
   "mimetype": "text/x-python",
   "name": "python",
   "nbconvert_exporter": "python",
   "pygments_lexer": "ipython3",
   "version": "3.6.1"
  }
 },
 "nbformat": 4,
 "nbformat_minor": 2
}
